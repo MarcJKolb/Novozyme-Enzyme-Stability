{
 "cells": [
  {
   "attachments": {},
   "cell_type": "markdown",
   "metadata": {},
   "source": [
    "![Title](./Novoenzyme_Enzyme_Stability_1.jpg)\n",
    "<br>\n",
    "<br>\n",
    "![Title](./Novoenzyme_Enzyme_Stability_2.jpg)\n",
    "<br>\n",
    "<br>\n",
    "![Title](./Novoenzyme_Enzyme_Stability_3.jpg)\n",
    "<br>\n",
    "<br>\n",
    "![Title](./Novoenzyme_Enzyme_Stability_4.jpg)\n",
    "<br>\n",
    "<br>\n",
    "![Title](./Novoenzyme_Enzyme_Stability_5.jpg)"
   ]
  },
  {
   "cell_type": "code",
   "execution_count": 1,
   "metadata": {},
   "outputs": [],
   "source": [
    "import pandas as pd\n",
    "import numpy as np\n",
    "import matplotlib.pyplot as plt\n",
    "import numpy as np\n",
    "import seaborn as sns\n",
    "from difflib import SequenceMatcher\n",
    "from sklearn.model_selection import train_test_split\n",
    "from Bio.SeqUtils.ProtParam import ProteinAnalysis"
   ]
  },
  {
   "cell_type": "code",
   "execution_count": 2,
   "metadata": {},
   "outputs": [
    {
     "name": "stdout",
     "output_type": "stream",
     "text": [
      "(31390, 4)\n",
      "Index(['protein_sequence', 'pH', 'data_source', 'tm'], dtype='object')\n"
     ]
    }
   ],
   "source": [
    "novo = pd.read_csv('train.csv')\n",
    "novo_update = pd.read_csv('train_updates_20220929.csv')\n",
    "\n",
    "novo_update_seq_id = novo_update.pop('seq_id')\n",
    "novo_update.dropna(how='all', inplace=True)\n",
    "novo_update_ready = novo_update.merge(novo_update_seq_id, how='left', left_index=True, right_index=True)\n",
    "\n",
    "novo.update(novo_update_ready)\n",
    "novo['seq_id'] = novo['seq_id'].astype(int)\n",
    "novo.set_index('seq_id', inplace=True)\n",
    "\n",
    "print(novo.shape)\n",
    "print(novo.columns)"
   ]
  },
  {
   "attachments": {},
   "cell_type": "markdown",
   "metadata": {},
   "source": [
    "![Title](./Novoenzyme_Enzyme_Stability_6.jpg)"
   ]
  },
  {
   "cell_type": "code",
   "execution_count": 3,
   "metadata": {},
   "outputs": [
    {
     "name": "stdout",
     "output_type": "stream",
     "text": [
      "<class 'pandas.core.frame.DataFrame'>\n",
      "Int64Index: 31390 entries, 0 to 31389\n",
      "Data columns (total 4 columns):\n",
      " #   Column            Non-Null Count  Dtype  \n",
      "---  ------            --------------  -----  \n",
      " 0   protein_sequence  31390 non-null  object \n",
      " 1   pH                31104 non-null  float64\n",
      " 2   data_source       28043 non-null  object \n",
      " 3   tm                31390 non-null  float64\n",
      "dtypes: float64(2), object(2)\n",
      "memory usage: 1.2+ MB\n"
     ]
    }
   ],
   "source": [
    "novo.info()"
   ]
  },
  {
   "cell_type": "code",
   "execution_count": 4,
   "metadata": {},
   "outputs": [
    {
     "data": {
      "text/plain": [
       "count    31104.000000\n",
       "mean         6.890323\n",
       "std          1.588809\n",
       "min          1.990000\n",
       "25%          7.000000\n",
       "50%          7.000000\n",
       "75%          7.000000\n",
       "max         64.900000\n",
       "Name: pH, dtype: float64"
      ]
     },
     "execution_count": 4,
     "metadata": {},
     "output_type": "execute_result"
    }
   ],
   "source": [
    "novo['pH'].describe()"
   ]
  },
  {
   "attachments": {},
   "cell_type": "markdown",
   "metadata": {},
   "source": [
    "![Title](./Novoenzyme_Enzyme_Stability_7.jpg)"
   ]
  },
  {
   "cell_type": "code",
   "execution_count": 5,
   "metadata": {},
   "outputs": [],
   "source": [
    "novo = novo.dropna(subset = 'pH')"
   ]
  },
  {
   "attachments": {},
   "cell_type": "markdown",
   "metadata": {},
   "source": [
    "![Title](./Novoenzyme_Enzyme_Stability_8.jpg)"
   ]
  },
  {
   "cell_type": "code",
   "execution_count": 6,
   "metadata": {},
   "outputs": [
    {
     "data": {
      "text/plain": [
       "array([48.4, 49. , 55.6, 64.9, 39. , 53.4])"
      ]
     },
     "execution_count": 6,
     "metadata": {},
     "output_type": "execute_result"
    }
   ],
   "source": [
    "novo['pH'][novo['pH'] > 14].unique()"
   ]
  },
  {
   "cell_type": "code",
   "execution_count": 7,
   "metadata": {},
   "outputs": [
    {
     "name": "stderr",
     "output_type": "stream",
     "text": [
      "C:\\Users\\marcj\\AppData\\Local\\Temp\\ipykernel_8080\\2319005900.py:1: SettingWithCopyWarning: \n",
      "A value is trying to be set on a copy of a slice from a DataFrame\n",
      "\n",
      "See the caveats in the documentation: https://pandas.pydata.org/pandas-docs/stable/user_guide/indexing.html#returning-a-view-versus-a-copy\n",
      "  novo['pH'][novo['pH'] > 14] = novo['pH'][novo['pH'] > 14] * 0.1\n"
     ]
    }
   ],
   "source": [
    "novo['pH'][novo['pH'] > 14] = novo['pH'][novo['pH'] > 14] * 0.1\n",
    "novo['pH'] = novo['pH'].round(1)"
   ]
  },
  {
   "attachments": {},
   "cell_type": "markdown",
   "metadata": {},
   "source": [
    "![Title](./Novoenzyme_Enzyme_Stability_9.jpg)"
   ]
  },
  {
   "cell_type": "code",
   "execution_count": 8,
   "metadata": {},
   "outputs": [
    {
     "name": "stdout",
     "output_type": "stream",
     "text": [
      "<class 'pandas.core.frame.DataFrame'>\n",
      "Int64Index: 31104 entries, 0 to 31389\n",
      "Data columns (total 4 columns):\n",
      " #   Column            Non-Null Count  Dtype  \n",
      "---  ------            --------------  -----  \n",
      " 0   protein_sequence  31104 non-null  object \n",
      " 1   pH                31104 non-null  float64\n",
      " 2   data_source       27769 non-null  object \n",
      " 3   tm                31104 non-null  float64\n",
      "dtypes: float64(2), object(2)\n",
      "memory usage: 2.2+ MB\n"
     ]
    }
   ],
   "source": [
    "novo.info()"
   ]
  },
  {
   "cell_type": "code",
   "execution_count": 9,
   "metadata": {},
   "outputs": [
    {
     "name": "stderr",
     "output_type": "stream",
     "text": [
      "C:\\Users\\marcj\\AppData\\Local\\Temp\\ipykernel_8080\\609685233.py:1: FutureWarning: The default value of numeric_only in DataFrame.corr is deprecated. In a future version, it will default to False. Select only valid columns or specify the value of numeric_only to silence this warning.\n",
      "  novo.corr()\n"
     ]
    },
    {
     "data": {
      "text/html": [
       "<div>\n",
       "<style scoped>\n",
       "    .dataframe tbody tr th:only-of-type {\n",
       "        vertical-align: middle;\n",
       "    }\n",
       "\n",
       "    .dataframe tbody tr th {\n",
       "        vertical-align: top;\n",
       "    }\n",
       "\n",
       "    .dataframe thead th {\n",
       "        text-align: right;\n",
       "    }\n",
       "</style>\n",
       "<table border=\"1\" class=\"dataframe\">\n",
       "  <thead>\n",
       "    <tr style=\"text-align: right;\">\n",
       "      <th></th>\n",
       "      <th>pH</th>\n",
       "      <th>tm</th>\n",
       "    </tr>\n",
       "  </thead>\n",
       "  <tbody>\n",
       "    <tr>\n",
       "      <th>pH</th>\n",
       "      <td>1.000000</td>\n",
       "      <td>0.072835</td>\n",
       "    </tr>\n",
       "    <tr>\n",
       "      <th>tm</th>\n",
       "      <td>0.072835</td>\n",
       "      <td>1.000000</td>\n",
       "    </tr>\n",
       "  </tbody>\n",
       "</table>\n",
       "</div>"
      ],
      "text/plain": [
       "          pH        tm\n",
       "pH  1.000000  0.072835\n",
       "tm  0.072835  1.000000"
      ]
     },
     "execution_count": 9,
     "metadata": {},
     "output_type": "execute_result"
    }
   ],
   "source": [
    "novo.corr()"
   ]
  },
  {
   "attachments": {},
   "cell_type": "markdown",
   "metadata": {},
   "source": [
    "![Title](./Novoenzyme_Enzyme_Stability_10.jpg)\n",
    "![Title](./Novoenzyme_Enzyme_Stability_11.jpg)"
   ]
  },
  {
   "cell_type": "code",
   "execution_count": 10,
   "metadata": {},
   "outputs": [
    {
     "name": "stderr",
     "output_type": "stream",
     "text": [
      "C:\\Users\\marcj\\AppData\\Local\\Temp\\ipykernel_8080\\2308788498.py:5: SettingWithCopyWarning: \n",
      "A value is trying to be set on a copy of a slice from a DataFrame\n",
      "\n",
      "See the caveats in the documentation: https://pandas.pydata.org/pandas-docs/stable/user_guide/indexing.html#returning-a-view-versus-a-copy\n",
      "  novo['comp_score'].iloc[value] = comparison_score\n"
     ]
    },
    {
     "data": {
      "text/html": [
       "<div>\n",
       "<style scoped>\n",
       "    .dataframe tbody tr th:only-of-type {\n",
       "        vertical-align: middle;\n",
       "    }\n",
       "\n",
       "    .dataframe tbody tr th {\n",
       "        vertical-align: top;\n",
       "    }\n",
       "\n",
       "    .dataframe thead th {\n",
       "        text-align: right;\n",
       "    }\n",
       "</style>\n",
       "<table border=\"1\" class=\"dataframe\">\n",
       "  <thead>\n",
       "    <tr style=\"text-align: right;\">\n",
       "      <th></th>\n",
       "      <th>protein_sequence</th>\n",
       "      <th>pH</th>\n",
       "      <th>data_source</th>\n",
       "      <th>tm</th>\n",
       "      <th>comp_score</th>\n",
       "    </tr>\n",
       "    <tr>\n",
       "      <th>seq_id</th>\n",
       "      <th></th>\n",
       "      <th></th>\n",
       "      <th></th>\n",
       "      <th></th>\n",
       "      <th></th>\n",
       "    </tr>\n",
       "  </thead>\n",
       "  <tbody>\n",
       "    <tr>\n",
       "      <th>0</th>\n",
       "      <td>AAAAKAAALALLGEAPEVVDIWLPAGWRQPFRVFRLERKGDGVLVG...</td>\n",
       "      <td>7.0</td>\n",
       "      <td>doi.org/10.1038/s41592-020-0801-4</td>\n",
       "      <td>75.7</td>\n",
       "      <td>0.148297</td>\n",
       "    </tr>\n",
       "    <tr>\n",
       "      <th>1</th>\n",
       "      <td>AAADGEPLHNEEERAGAGQVGRSLPQESEEQRTGSRPRRRRDLGSR...</td>\n",
       "      <td>7.0</td>\n",
       "      <td>doi.org/10.1038/s41592-020-0801-4</td>\n",
       "      <td>50.5</td>\n",
       "      <td>0.153153</td>\n",
       "    </tr>\n",
       "    <tr>\n",
       "      <th>2</th>\n",
       "      <td>AAAFSTPRATSYRILSSAGSGSTRADAPQVRRLHTTRDLLAKDYYA...</td>\n",
       "      <td>7.0</td>\n",
       "      <td>doi.org/10.1038/s41592-020-0801-4</td>\n",
       "      <td>40.5</td>\n",
       "      <td>0.128244</td>\n",
       "    </tr>\n",
       "    <tr>\n",
       "      <th>3</th>\n",
       "      <td>AAASGLRTAIPAQPLRHLLQPAPRPCLRPFGLLSVRAGSARRSGLL...</td>\n",
       "      <td>7.0</td>\n",
       "      <td>doi.org/10.1038/s41592-020-0801-4</td>\n",
       "      <td>47.2</td>\n",
       "      <td>0.080378</td>\n",
       "    </tr>\n",
       "    <tr>\n",
       "      <th>4</th>\n",
       "      <td>AAATKSGPRRQSQGASVRTFTPFYFLVEPVDTLSVRGSSVILNCSA...</td>\n",
       "      <td>7.0</td>\n",
       "      <td>doi.org/10.1038/s41592-020-0801-4</td>\n",
       "      <td>49.5</td>\n",
       "      <td>0.045991</td>\n",
       "    </tr>\n",
       "  </tbody>\n",
       "</table>\n",
       "</div>"
      ],
      "text/plain": [
       "                                         protein_sequence   pH  \\\n",
       "seq_id                                                           \n",
       "0       AAAAKAAALALLGEAPEVVDIWLPAGWRQPFRVFRLERKGDGVLVG...  7.0   \n",
       "1       AAADGEPLHNEEERAGAGQVGRSLPQESEEQRTGSRPRRRRDLGSR...  7.0   \n",
       "2       AAAFSTPRATSYRILSSAGSGSTRADAPQVRRLHTTRDLLAKDYYA...  7.0   \n",
       "3       AAASGLRTAIPAQPLRHLLQPAPRPCLRPFGLLSVRAGSARRSGLL...  7.0   \n",
       "4       AAATKSGPRRQSQGASVRTFTPFYFLVEPVDTLSVRGSSVILNCSA...  7.0   \n",
       "\n",
       "                              data_source    tm  comp_score  \n",
       "seq_id                                                       \n",
       "0       doi.org/10.1038/s41592-020-0801-4  75.7    0.148297  \n",
       "1       doi.org/10.1038/s41592-020-0801-4  50.5    0.153153  \n",
       "2       doi.org/10.1038/s41592-020-0801-4  40.5    0.128244  \n",
       "3       doi.org/10.1038/s41592-020-0801-4  47.2    0.080378  \n",
       "4       doi.org/10.1038/s41592-020-0801-4  49.5    0.045991  "
      ]
     },
     "execution_count": 10,
     "metadata": {},
     "output_type": "execute_result"
    }
   ],
   "source": [
    "\n",
    "novo['comp_score'] = np.nan\n",
    "\n",
    "for value in range(0, len(novo)):\n",
    "    comparison_score = SequenceMatcher(a = novo['protein_sequence'].iloc[value], b = novo['protein_sequence'].iloc[14318]).ratio()\n",
    "    novo['comp_score'].iloc[value] = comparison_score\n",
    "novo.head()"
   ]
  },
  {
   "cell_type": "code",
   "execution_count": 11,
   "metadata": {},
   "outputs": [
    {
     "data": {
      "text/plain": [
       "count    31104.000000\n",
       "mean         0.142037\n",
       "std          0.055970\n",
       "min          0.005224\n",
       "25%          0.099066\n",
       "50%          0.139674\n",
       "75%          0.180791\n",
       "max          1.000000\n",
       "Name: comp_score, dtype: float64"
      ]
     },
     "execution_count": 11,
     "metadata": {},
     "output_type": "execute_result"
    }
   ],
   "source": [
    "novo['comp_score'].describe()"
   ]
  },
  {
   "cell_type": "code",
   "execution_count": 12,
   "metadata": {},
   "outputs": [
    {
     "name": "stderr",
     "output_type": "stream",
     "text": [
      "C:\\Users\\marcj\\AppData\\Local\\Temp\\ipykernel_8080\\609685233.py:1: FutureWarning: The default value of numeric_only in DataFrame.corr is deprecated. In a future version, it will default to False. Select only valid columns or specify the value of numeric_only to silence this warning.\n",
      "  novo.corr()\n"
     ]
    },
    {
     "data": {
      "text/html": [
       "<div>\n",
       "<style scoped>\n",
       "    .dataframe tbody tr th:only-of-type {\n",
       "        vertical-align: middle;\n",
       "    }\n",
       "\n",
       "    .dataframe tbody tr th {\n",
       "        vertical-align: top;\n",
       "    }\n",
       "\n",
       "    .dataframe thead th {\n",
       "        text-align: right;\n",
       "    }\n",
       "</style>\n",
       "<table border=\"1\" class=\"dataframe\">\n",
       "  <thead>\n",
       "    <tr style=\"text-align: right;\">\n",
       "      <th></th>\n",
       "      <th>pH</th>\n",
       "      <th>tm</th>\n",
       "      <th>comp_score</th>\n",
       "    </tr>\n",
       "  </thead>\n",
       "  <tbody>\n",
       "    <tr>\n",
       "      <th>pH</th>\n",
       "      <td>1.000000</td>\n",
       "      <td>0.072835</td>\n",
       "      <td>-0.197563</td>\n",
       "    </tr>\n",
       "    <tr>\n",
       "      <th>tm</th>\n",
       "      <td>0.072835</td>\n",
       "      <td>1.000000</td>\n",
       "      <td>0.010359</td>\n",
       "    </tr>\n",
       "    <tr>\n",
       "      <th>comp_score</th>\n",
       "      <td>-0.197563</td>\n",
       "      <td>0.010359</td>\n",
       "      <td>1.000000</td>\n",
       "    </tr>\n",
       "  </tbody>\n",
       "</table>\n",
       "</div>"
      ],
      "text/plain": [
       "                  pH        tm  comp_score\n",
       "pH          1.000000  0.072835   -0.197563\n",
       "tm          0.072835  1.000000    0.010359\n",
       "comp_score -0.197563  0.010359    1.000000"
      ]
     },
     "execution_count": 12,
     "metadata": {},
     "output_type": "execute_result"
    }
   ],
   "source": [
    "novo.corr()"
   ]
  },
  {
   "attachments": {},
   "cell_type": "markdown",
   "metadata": {},
   "source": [
    "![Title](./Novoenzyme_Enzyme_Stability_12.jpg)\n",
    "![Title](./Novoenzyme_Enzyme_Stability_13.jpg)"
   ]
  },
  {
   "cell_type": "code",
   "execution_count": 13,
   "metadata": {},
   "outputs": [
    {
     "name": "stderr",
     "output_type": "stream",
     "text": [
      "C:\\Users\\marcj\\AppData\\Local\\Temp\\ipykernel_8080\\3509864698.py:8: SettingWithCopyWarning: \n",
      "A value is trying to be set on a copy of a slice from a DataFrame\n",
      "\n",
      "See the caveats in the documentation: https://pandas.pydata.org/pandas-docs/stable/user_guide/indexing.html#returning-a-view-versus-a-copy\n",
      "  novo['mol_wt'].iloc[value] = proto_an.molecular_weight()\n",
      "C:\\Users\\marcj\\AppData\\Local\\Temp\\ipykernel_8080\\3509864698.py:9: SettingWithCopyWarning: \n",
      "A value is trying to be set on a copy of a slice from a DataFrame\n",
      "\n",
      "See the caveats in the documentation: https://pandas.pydata.org/pandas-docs/stable/user_guide/indexing.html#returning-a-view-versus-a-copy\n",
      "  novo['instability'].iloc[value] = proto_an.instability_index()\n",
      "C:\\Users\\marcj\\AppData\\Local\\Temp\\ipykernel_8080\\3509864698.py:10: SettingWithCopyWarning: \n",
      "A value is trying to be set on a copy of a slice from a DataFrame\n",
      "\n",
      "See the caveats in the documentation: https://pandas.pydata.org/pandas-docs/stable/user_guide/indexing.html#returning-a-view-versus-a-copy\n",
      "  novo['gravy'].iloc[value] = proto_an.gravy()\n",
      "C:\\Users\\marcj\\AppData\\Local\\Temp\\ipykernel_8080\\3509864698.py:11: SettingWithCopyWarning: \n",
      "A value is trying to be set on a copy of a slice from a DataFrame\n",
      "\n",
      "See the caveats in the documentation: https://pandas.pydata.org/pandas-docs/stable/user_guide/indexing.html#returning-a-view-versus-a-copy\n",
      "  novo['aromaticity'].iloc[value] = proto_an.aromaticity()\n"
     ]
    }
   ],
   "source": [
    "novo['mol_wt'] = np.nan\n",
    "novo['instability'] = np.nan\n",
    "novo['gravy'] = np.nan\n",
    "novo['aromaticity'] = np.nan\n",
    "\n",
    "for value in range(0, len(novo)):\n",
    "    proto_an = ProteinAnalysis(novo['protein_sequence'].iloc[value])\n",
    "    novo['mol_wt'].iloc[value] = proto_an.molecular_weight()\n",
    "    novo['instability'].iloc[value] = proto_an.instability_index()\n",
    "    novo['gravy'].iloc[value] = proto_an.gravy()\n",
    "    novo['aromaticity'].iloc[value] = proto_an.aromaticity()"
   ]
  },
  {
   "cell_type": "code",
   "execution_count": 14,
   "metadata": {},
   "outputs": [
    {
     "name": "stderr",
     "output_type": "stream",
     "text": [
      "C:\\Users\\marcj\\AppData\\Local\\Temp\\ipykernel_8080\\609685233.py:1: FutureWarning: The default value of numeric_only in DataFrame.corr is deprecated. In a future version, it will default to False. Select only valid columns or specify the value of numeric_only to silence this warning.\n",
      "  novo.corr()\n"
     ]
    },
    {
     "data": {
      "text/html": [
       "<div>\n",
       "<style scoped>\n",
       "    .dataframe tbody tr th:only-of-type {\n",
       "        vertical-align: middle;\n",
       "    }\n",
       "\n",
       "    .dataframe tbody tr th {\n",
       "        vertical-align: top;\n",
       "    }\n",
       "\n",
       "    .dataframe thead th {\n",
       "        text-align: right;\n",
       "    }\n",
       "</style>\n",
       "<table border=\"1\" class=\"dataframe\">\n",
       "  <thead>\n",
       "    <tr style=\"text-align: right;\">\n",
       "      <th></th>\n",
       "      <th>pH</th>\n",
       "      <th>tm</th>\n",
       "      <th>comp_score</th>\n",
       "      <th>mol_wt</th>\n",
       "      <th>instability</th>\n",
       "      <th>gravy</th>\n",
       "      <th>aromaticity</th>\n",
       "    </tr>\n",
       "  </thead>\n",
       "  <tbody>\n",
       "    <tr>\n",
       "      <th>pH</th>\n",
       "      <td>1.000000</td>\n",
       "      <td>0.072835</td>\n",
       "      <td>-0.197563</td>\n",
       "      <td>0.064199</td>\n",
       "      <td>0.158731</td>\n",
       "      <td>0.048505</td>\n",
       "      <td>0.001549</td>\n",
       "    </tr>\n",
       "    <tr>\n",
       "      <th>tm</th>\n",
       "      <td>0.072835</td>\n",
       "      <td>1.000000</td>\n",
       "      <td>0.010359</td>\n",
       "      <td>-0.060967</td>\n",
       "      <td>-0.028351</td>\n",
       "      <td>0.159549</td>\n",
       "      <td>-0.021780</td>\n",
       "    </tr>\n",
       "    <tr>\n",
       "      <th>comp_score</th>\n",
       "      <td>-0.197563</td>\n",
       "      <td>0.010359</td>\n",
       "      <td>1.000000</td>\n",
       "      <td>-0.401423</td>\n",
       "      <td>-0.251892</td>\n",
       "      <td>0.048043</td>\n",
       "      <td>0.069891</td>\n",
       "    </tr>\n",
       "    <tr>\n",
       "      <th>mol_wt</th>\n",
       "      <td>0.064199</td>\n",
       "      <td>-0.060967</td>\n",
       "      <td>-0.401423</td>\n",
       "      <td>1.000000</td>\n",
       "      <td>0.164447</td>\n",
       "      <td>-0.087025</td>\n",
       "      <td>-0.078446</td>\n",
       "    </tr>\n",
       "    <tr>\n",
       "      <th>instability</th>\n",
       "      <td>0.158731</td>\n",
       "      <td>-0.028351</td>\n",
       "      <td>-0.251892</td>\n",
       "      <td>0.164447</td>\n",
       "      <td>1.000000</td>\n",
       "      <td>-0.374128</td>\n",
       "      <td>-0.199246</td>\n",
       "    </tr>\n",
       "    <tr>\n",
       "      <th>gravy</th>\n",
       "      <td>0.048505</td>\n",
       "      <td>0.159549</td>\n",
       "      <td>0.048043</td>\n",
       "      <td>-0.087025</td>\n",
       "      <td>-0.374128</td>\n",
       "      <td>1.000000</td>\n",
       "      <td>0.131993</td>\n",
       "    </tr>\n",
       "    <tr>\n",
       "      <th>aromaticity</th>\n",
       "      <td>0.001549</td>\n",
       "      <td>-0.021780</td>\n",
       "      <td>0.069891</td>\n",
       "      <td>-0.078446</td>\n",
       "      <td>-0.199246</td>\n",
       "      <td>0.131993</td>\n",
       "      <td>1.000000</td>\n",
       "    </tr>\n",
       "  </tbody>\n",
       "</table>\n",
       "</div>"
      ],
      "text/plain": [
       "                   pH        tm  comp_score    mol_wt  instability     gravy  \\\n",
       "pH           1.000000  0.072835   -0.197563  0.064199     0.158731  0.048505   \n",
       "tm           0.072835  1.000000    0.010359 -0.060967    -0.028351  0.159549   \n",
       "comp_score  -0.197563  0.010359    1.000000 -0.401423    -0.251892  0.048043   \n",
       "mol_wt       0.064199 -0.060967   -0.401423  1.000000     0.164447 -0.087025   \n",
       "instability  0.158731 -0.028351   -0.251892  0.164447     1.000000 -0.374128   \n",
       "gravy        0.048505  0.159549    0.048043 -0.087025    -0.374128  1.000000   \n",
       "aromaticity  0.001549 -0.021780    0.069891 -0.078446    -0.199246  0.131993   \n",
       "\n",
       "             aromaticity  \n",
       "pH              0.001549  \n",
       "tm             -0.021780  \n",
       "comp_score      0.069891  \n",
       "mol_wt         -0.078446  \n",
       "instability    -0.199246  \n",
       "gravy           0.131993  \n",
       "aromaticity     1.000000  "
      ]
     },
     "execution_count": 14,
     "metadata": {},
     "output_type": "execute_result"
    }
   ],
   "source": [
    "novo.corr()"
   ]
  },
  {
   "attachments": {},
   "cell_type": "markdown",
   "metadata": {},
   "source": [
    "![Title](./Novoenzyme_Enzyme_Stability_14.jpg)"
   ]
  },
  {
   "cell_type": "code",
   "execution_count": 19,
   "metadata": {},
   "outputs": [],
   "source": [
    "X = np.array(novo[['pH', 'comp_score', 'mol_wt', 'instability', 'gravy', 'aromaticity']])\n",
    "y = np.array(novo['tm'])\n",
    "\n",
    "X_train, X_test, y_train, y_test = train_test_split(X, y, test_size = 0.3)"
   ]
  },
  {
   "cell_type": "code",
   "execution_count": 24,
   "metadata": {},
   "outputs": [
    {
     "name": "stderr",
     "output_type": "stream",
     "text": [
      " 38%|███▊      | 16/42 [21:12<1:01:45, 142.53s/it]c:\\Users\\marcj\\anaconda3\\envs\\mkolb\\lib\\site-packages\\sklearn\\linear_model\\_base.py:133: FutureWarning: The default of 'normalize' will be set to False in version 1.2 and deprecated in version 1.4.\n",
      "If you wish to scale the data, use Pipeline with a StandardScaler in a preprocessing stage. To reproduce the previous behavior:\n",
      "\n",
      "from sklearn.pipeline import make_pipeline\n",
      "\n",
      "model = make_pipeline(StandardScaler(with_mean=False), Lars())\n",
      "\n",
      "If you wish to pass a sample_weight parameter, you need to pass it as a fit parameter to each step of the pipeline as follows:\n",
      "\n",
      "kwargs = {s[0] + '__sample_weight': sample_weight for s in model.steps}\n",
      "model.fit(X, y, **kwargs)\n",
      "\n",
      "\n",
      "  warnings.warn(\n",
      " 40%|████      | 17/42 [21:13<42:16, 101.46s/it]  c:\\Users\\marcj\\anaconda3\\envs\\mkolb\\lib\\site-packages\\sklearn\\linear_model\\_base.py:133: FutureWarning: The default of 'normalize' will be set to False in version 1.2 and deprecated in version 1.4.\n",
      "If you wish to scale the data, use Pipeline with a StandardScaler in a preprocessing stage. To reproduce the previous behavior:\n",
      "\n",
      "from sklearn.pipeline import make_pipeline\n",
      "\n",
      "model = make_pipeline(StandardScaler(with_mean=False), LarsCV())\n",
      "\n",
      "If you wish to pass a sample_weight parameter, you need to pass it as a fit parameter to each step of the pipeline as follows:\n",
      "\n",
      "kwargs = {s[0] + '__sample_weight': sample_weight for s in model.steps}\n",
      "model.fit(X, y, **kwargs)\n",
      "\n",
      "\n",
      "  warnings.warn(\n",
      " 48%|████▊     | 20/42 [21:15<13:20, 36.40s/it] c:\\Users\\marcj\\anaconda3\\envs\\mkolb\\lib\\site-packages\\sklearn\\linear_model\\_base.py:133: FutureWarning: The default of 'normalize' will be set to False in version 1.2 and deprecated in version 1.4.\n",
      "If you wish to scale the data, use Pipeline with a StandardScaler in a preprocessing stage. To reproduce the previous behavior:\n",
      "\n",
      "from sklearn.pipeline import make_pipeline\n",
      "\n",
      "model = make_pipeline(StandardScaler(with_mean=False), LassoLars())\n",
      "\n",
      "If you wish to pass a sample_weight parameter, you need to pass it as a fit parameter to each step of the pipeline as follows:\n",
      "\n",
      "kwargs = {s[0] + '__sample_weight': sample_weight for s in model.steps}\n",
      "model.fit(X, y, **kwargs)\n",
      "\n",
      "Set parameter alpha to: original_alpha * np.sqrt(n_samples). \n",
      "  warnings.warn(\n",
      " 50%|█████     | 21/42 [21:16<08:58, 25.63s/it]c:\\Users\\marcj\\anaconda3\\envs\\mkolb\\lib\\site-packages\\sklearn\\linear_model\\_base.py:133: FutureWarning: The default of 'normalize' will be set to False in version 1.2 and deprecated in version 1.4.\n",
      "If you wish to scale the data, use Pipeline with a StandardScaler in a preprocessing stage. To reproduce the previous behavior:\n",
      "\n",
      "from sklearn.pipeline import make_pipeline\n",
      "\n",
      "model = make_pipeline(StandardScaler(with_mean=False), LassoLarsCV())\n",
      "\n",
      "If you wish to pass a sample_weight parameter, you need to pass it as a fit parameter to each step of the pipeline as follows:\n",
      "\n",
      "kwargs = {s[0] + '__sample_weight': sample_weight for s in model.steps}\n",
      "model.fit(X, y, **kwargs)\n",
      "\n",
      "Set parameter alpha to: original_alpha * np.sqrt(n_samples). \n",
      "  warnings.warn(\n",
      " 52%|█████▏    | 22/42 [21:16<06:02, 18.14s/it]c:\\Users\\marcj\\anaconda3\\envs\\mkolb\\lib\\site-packages\\sklearn\\linear_model\\_base.py:133: FutureWarning: The default of 'normalize' will be set to False in version 1.2 and deprecated in version 1.4.\n",
      "If you wish to scale the data, use Pipeline with a StandardScaler in a preprocessing stage. To reproduce the previous behavior:\n",
      "\n",
      "from sklearn.pipeline import make_pipeline\n",
      "\n",
      "model = make_pipeline(StandardScaler(with_mean=False), LassoLarsIC())\n",
      "\n",
      "If you wish to pass a sample_weight parameter, you need to pass it as a fit parameter to each step of the pipeline as follows:\n",
      "\n",
      "kwargs = {s[0] + '__sample_weight': sample_weight for s in model.steps}\n",
      "model.fit(X, y, **kwargs)\n",
      "\n",
      "Set parameter alpha to: original_alpha * np.sqrt(n_samples). \n",
      "  warnings.warn(\n",
      " 60%|█████▉    | 25/42 [21:18<01:54,  6.76s/it]c:\\Users\\marcj\\anaconda3\\envs\\mkolb\\lib\\site-packages\\sklearn\\neural_network\\_multilayer_perceptron.py:702: ConvergenceWarning: Stochastic Optimizer: Maximum iterations (200) reached and the optimization hasn't converged yet.\n",
      "  warnings.warn(\n",
      " 64%|██████▍   | 27/42 [27:17<25:38, 102.54s/it]c:\\Users\\marcj\\anaconda3\\envs\\mkolb\\lib\\site-packages\\sklearn\\linear_model\\_base.py:133: FutureWarning: The default of 'normalize' will be set to False in version 1.2 and deprecated in version 1.4.\n",
      "If you wish to scale the data, use Pipeline with a StandardScaler in a preprocessing stage. To reproduce the previous behavior:\n",
      "\n",
      "from sklearn.pipeline import make_pipeline\n",
      "\n",
      "model = make_pipeline(StandardScaler(with_mean=False), OrthogonalMatchingPursuit())\n",
      "\n",
      "If you wish to pass a sample_weight parameter, you need to pass it as a fit parameter to each step of the pipeline as follows:\n",
      "\n",
      "kwargs = {s[0] + '__sample_weight': sample_weight for s in model.steps}\n",
      "model.fit(X, y, **kwargs)\n",
      "\n",
      "\n",
      "  warnings.warn(\n",
      " 67%|██████▋   | 28/42 [27:17<16:45, 71.85s/it] c:\\Users\\marcj\\anaconda3\\envs\\mkolb\\lib\\site-packages\\sklearn\\linear_model\\_base.py:133: FutureWarning: The default of 'normalize' will be set to False in version 1.2 and deprecated in version 1.4.\n",
      "If you wish to scale the data, use Pipeline with a StandardScaler in a preprocessing stage. To reproduce the previous behavior:\n",
      "\n",
      "from sklearn.pipeline import make_pipeline\n",
      "\n",
      "model = make_pipeline(StandardScaler(with_mean=False), OrthogonalMatchingPursuitCV())\n",
      "\n",
      "If you wish to pass a sample_weight parameter, you need to pass it as a fit parameter to each step of the pipeline as follows:\n",
      "\n",
      "kwargs = {s[0] + '__sample_weight': sample_weight for s in model.steps}\n",
      "model.fit(X, y, **kwargs)\n",
      "\n",
      "\n",
      "  warnings.warn(\n",
      "100%|██████████| 42/42 [1:39:49<00:00, 142.60s/it]   \n"
     ]
    },
    {
     "name": "stdout",
     "output_type": "stream",
     "text": [
      "                               Adjusted R-Squared  R-Squared    RMSE  \\\n",
      "Model                                                                  \n",
      "LGBMRegressor                                0.31       0.31   11.62   \n",
      "HistGradientBoostingRegressor                0.31       0.31   11.64   \n",
      "XGBRegressor                                 0.29       0.29   11.74   \n",
      "RandomForestRegressor                        0.27       0.27   11.92   \n",
      "ExtraTreesRegressor                          0.24       0.24   12.21   \n",
      "GradientBoostingRegressor                    0.22       0.22   12.36   \n",
      "BaggingRegressor                             0.21       0.21   12.40   \n",
      "KNeighborsRegressor                          0.19       0.19   12.54   \n",
      "MLPRegressor                                 0.16       0.16   12.81   \n",
      "NuSVR                                        0.10       0.10   13.28   \n",
      "SVR                                          0.08       0.08   13.38   \n",
      "OrthogonalMatchingPursuitCV                  0.03       0.03   13.74   \n",
      "LinearRegression                             0.03       0.03   13.74   \n",
      "Lars                                         0.03       0.03   13.74   \n",
      "TransformedTargetRegressor                   0.03       0.03   13.74   \n",
      "Ridge                                        0.03       0.03   13.74   \n",
      "RidgeCV                                      0.03       0.03   13.74   \n",
      "BayesianRidge                                0.03       0.03   13.74   \n",
      "LassoLarsIC                                  0.03       0.03   13.74   \n",
      "ElasticNetCV                                 0.03       0.03   13.74   \n",
      "LassoCV                                      0.03       0.03   13.74   \n",
      "LarsCV                                       0.03       0.03   13.74   \n",
      "LassoLarsCV                                  0.03       0.03   13.74   \n",
      "SGDRegressor                                 0.03       0.03   13.76   \n",
      "OrthogonalMatchingPursuit                    0.02       0.02   13.80   \n",
      "TweedieRegressor                             0.02       0.02   13.80   \n",
      "HuberRegressor                               0.02       0.02   13.81   \n",
      "ElasticNet                                   0.02       0.02   13.81   \n",
      "Lasso                                        0.02       0.02   13.83   \n",
      "LinearSVR                                    0.02       0.02   13.84   \n",
      "LassoLars                                   -0.00      -0.00   13.97   \n",
      "DummyRegressor                              -0.00      -0.00   13.97   \n",
      "PassiveAggressiveRegressor                  -0.06      -0.06   14.41   \n",
      "AdaBoostRegressor                           -0.12      -0.12   14.80   \n",
      "RANSACRegressor                             -0.33      -0.33   16.11   \n",
      "DecisionTreeRegressor                       -0.37      -0.37   16.37   \n",
      "ExtraTreeRegressor                          -0.40      -0.40   16.51   \n",
      "KernelRidge                                -12.22     -12.21   50.77   \n",
      "GaussianProcessRegressor               -156621.00 -156520.29 5525.26   \n",
      "\n",
      "                               Time Taken  \n",
      "Model                                      \n",
      "LGBMRegressor                        0.92  \n",
      "HistGradientBoostingRegressor        9.73  \n",
      "XGBRegressor                         6.57  \n",
      "RandomForestRegressor               56.99  \n",
      "ExtraTreesRegressor                 23.10  \n",
      "GradientBoostingRegressor           19.51  \n",
      "BaggingRegressor                     6.06  \n",
      "KNeighborsRegressor                  2.41  \n",
      "MLPRegressor                        93.38  \n",
      "NuSVR                              265.73  \n",
      "SVR                                243.71  \n",
      "OrthogonalMatchingPursuitCV          0.43  \n",
      "LinearRegression                     0.16  \n",
      "Lars                                 0.29  \n",
      "TransformedTargetRegressor           0.13  \n",
      "Ridge                                0.14  \n",
      "RidgeCV                              0.17  \n",
      "BayesianRidge                        0.13  \n",
      "LassoLarsIC                          0.33  \n",
      "ElasticNetCV                         1.18  \n",
      "LassoCV                              1.97  \n",
      "LarsCV                               0.59  \n",
      "LassoLarsCV                          0.48  \n",
      "SGDRegressor                         0.42  \n",
      "OrthogonalMatchingPursuit            0.17  \n",
      "TweedieRegressor                     0.27  \n",
      "HuberRegressor                       0.72  \n",
      "ElasticNet                           0.11  \n",
      "Lasso                                0.20  \n",
      "LinearSVR                            1.43  \n",
      "LassoLars                            0.17  \n",
      "DummyRegressor                       0.07  \n",
      "PassiveAggressiveRegressor           0.29  \n",
      "AdaBoostRegressor                    3.58  \n",
      "RANSACRegressor                      2.01  \n",
      "DecisionTreeRegressor                1.00  \n",
      "ExtraTreeRegressor                   0.34  \n",
      "KernelRidge                        343.80  \n",
      "GaussianProcessRegressor           860.78  \n",
      "                               Adjusted R-Squared  R-Squared    RMSE  \\\n",
      "Model                                                                  \n",
      "LGBMRegressor                                0.31       0.31   11.62   \n",
      "HistGradientBoostingRegressor                0.31       0.31   11.64   \n",
      "XGBRegressor                                 0.29       0.29   11.74   \n",
      "RandomForestRegressor                        0.27       0.27   11.92   \n",
      "ExtraTreesRegressor                          0.24       0.24   12.21   \n",
      "GradientBoostingRegressor                    0.22       0.22   12.36   \n",
      "BaggingRegressor                             0.21       0.21   12.40   \n",
      "KNeighborsRegressor                          0.19       0.19   12.54   \n",
      "MLPRegressor                                 0.16       0.16   12.81   \n",
      "NuSVR                                        0.10       0.10   13.28   \n",
      "SVR                                          0.08       0.08   13.38   \n",
      "OrthogonalMatchingPursuitCV                  0.03       0.03   13.74   \n",
      "LinearRegression                             0.03       0.03   13.74   \n",
      "Lars                                         0.03       0.03   13.74   \n",
      "TransformedTargetRegressor                   0.03       0.03   13.74   \n",
      "Ridge                                        0.03       0.03   13.74   \n",
      "RidgeCV                                      0.03       0.03   13.74   \n",
      "BayesianRidge                                0.03       0.03   13.74   \n",
      "LassoLarsIC                                  0.03       0.03   13.74   \n",
      "ElasticNetCV                                 0.03       0.03   13.74   \n",
      "LassoCV                                      0.03       0.03   13.74   \n",
      "LarsCV                                       0.03       0.03   13.74   \n",
      "LassoLarsCV                                  0.03       0.03   13.74   \n",
      "SGDRegressor                                 0.03       0.03   13.76   \n",
      "OrthogonalMatchingPursuit                    0.02       0.02   13.80   \n",
      "TweedieRegressor                             0.02       0.02   13.80   \n",
      "HuberRegressor                               0.02       0.02   13.81   \n",
      "ElasticNet                                   0.02       0.02   13.81   \n",
      "Lasso                                        0.02       0.02   13.83   \n",
      "LinearSVR                                    0.02       0.02   13.84   \n",
      "LassoLars                                   -0.00      -0.00   13.97   \n",
      "DummyRegressor                              -0.00      -0.00   13.97   \n",
      "PassiveAggressiveRegressor                  -0.06      -0.06   14.41   \n",
      "AdaBoostRegressor                           -0.12      -0.12   14.80   \n",
      "RANSACRegressor                             -0.33      -0.33   16.11   \n",
      "DecisionTreeRegressor                       -0.37      -0.37   16.37   \n",
      "ExtraTreeRegressor                          -0.40      -0.40   16.51   \n",
      "KernelRidge                                -12.22     -12.21   50.77   \n",
      "GaussianProcessRegressor               -156621.00 -156520.29 5525.26   \n",
      "\n",
      "                               Time Taken  \n",
      "Model                                      \n",
      "LGBMRegressor                        0.92  \n",
      "HistGradientBoostingRegressor        9.73  \n",
      "XGBRegressor                         6.57  \n",
      "RandomForestRegressor               56.99  \n",
      "ExtraTreesRegressor                 23.10  \n",
      "GradientBoostingRegressor           19.51  \n",
      "BaggingRegressor                     6.06  \n",
      "KNeighborsRegressor                  2.41  \n",
      "MLPRegressor                        93.38  \n",
      "NuSVR                              265.73  \n",
      "SVR                                243.71  \n",
      "OrthogonalMatchingPursuitCV          0.43  \n",
      "LinearRegression                     0.16  \n",
      "Lars                                 0.29  \n",
      "TransformedTargetRegressor           0.13  \n",
      "Ridge                                0.14  \n",
      "RidgeCV                              0.17  \n",
      "BayesianRidge                        0.13  \n",
      "LassoLarsIC                          0.33  \n",
      "ElasticNetCV                         1.18  \n",
      "LassoCV                              1.97  \n",
      "LarsCV                               0.59  \n",
      "LassoLarsCV                          0.48  \n",
      "SGDRegressor                         0.42  \n",
      "OrthogonalMatchingPursuit            0.17  \n",
      "TweedieRegressor                     0.27  \n",
      "HuberRegressor                       0.72  \n",
      "ElasticNet                           0.11  \n",
      "Lasso                                0.20  \n",
      "LinearSVR                            1.43  \n",
      "LassoLars                            0.17  \n",
      "DummyRegressor                       0.07  \n",
      "PassiveAggressiveRegressor           0.29  \n",
      "AdaBoostRegressor                    3.58  \n",
      "RANSACRegressor                      2.01  \n",
      "DecisionTreeRegressor                1.00  \n",
      "ExtraTreeRegressor                   0.34  \n",
      "KernelRidge                        343.80  \n",
      "GaussianProcessRegressor           860.78  \n"
     ]
    }
   ],
   "source": [
    "from lazypredict.Supervised import LazyRegressor\n",
    "\n",
    "Lazy = LazyRegressor(verbose=0,ignore_warnings=True, custom_metric=None)\n",
    "models, predictions = Lazy.fit(X_train, X_test, y_train, y_test)\n",
    "print(models)\n",
    "print(predictions)"
   ]
  },
  {
   "cell_type": "code",
   "execution_count": 36,
   "metadata": {},
   "outputs": [
    {
     "data": {
      "image/png": "[encoded data removed]",
      "text/plain": [
       "<Figure size 640x480 with 1 Axes>"
      ]
     },
     "metadata": {},
     "output_type": "display_data"
    }
   ],
   "source": [
    "plt.bar(models[models['R-Squared'] >= 0].index, models[models['R-Squared'] >= 0]['R-Squared'])\n",
    "plt.xticks(rotation = 90)\n",
    "plt.show()\n"
   ]
  },
  {
   "attachments": {},
   "cell_type": "markdown",
   "metadata": {},
   "source": [
    "![Title](./Novoenzyme_Enzyme_Stability_15.jpg)\n",
    "![Title](./Novoenzyme_Enzyme_Stability_16.jpg)"
   ]
  },
  {
   "cell_type": "code",
   "execution_count": 74,
   "metadata": {},
   "outputs": [
    {
     "name": "stdout",
     "output_type": "stream",
     "text": [
      "Light GBM's Score:  0.2985351687875527\n"
     ]
    }
   ],
   "source": [
    "import lightgbm as ltb\n",
    "from sklearn.model_selection import RandomizedSearchCV\n",
    "from scipy.stats import uniform\n",
    "from scipy.stats import randint\n",
    "\n",
    "LGMBR = ltb.LGBMRegressor()\n",
    "model_params = {\n",
    "    'learning_rate': uniform(),\n",
    "    'subsample': uniform(),\n",
    "    'n_estimators': randint(100, 1000),\n",
    "    'max_depth' : randint(4, 10)\n",
    "}\n",
    "\n",
    "clf = RandomizedSearchCV(LGMBR, model_params, n_iter = 10, cv = 5)\n",
    "\n",
    "model_1 = clf.fit(X_train, y_train)\n",
    "\n",
    "model_1_score = model_1.best_estimator_.score(X_test, y_test)\n",
    "\n",
    "print('Light GBM\\'s Score: ', model_1_score)"
   ]
  },
  {
   "cell_type": "code",
   "execution_count": 76,
   "metadata": {},
   "outputs": [
    {
     "name": "stdout",
     "output_type": "stream",
     "text": [
      "Histogram-Based Gradient Boosting Regression Tree's Score:  0.29781415151021395\n"
     ]
    }
   ],
   "source": [
    "from sklearn.ensemble import HistGradientBoostingRegressor\n",
    "\n",
    "HGBR = HistGradientBoostingRegressor()\n",
    "model_params = {\n",
    "    'learning_rate': uniform(),\n",
    "    'max_iter': randint(10, 500),\n",
    "    'max_leaf_nodes': randint(10, 100)\n",
    "}\n",
    "\n",
    "clf = RandomizedSearchCV(HGBR, model_params, n_iter = 10, cv = 5)\n",
    "\n",
    "model_2 = clf.fit(X_train, y_train)\n",
    "\n",
    "model_2_score = model_2.best_estimator_.score(X_test, y_test)\n",
    "\n",
    "print('Histogram-Based Gradient Boosting Regression Tree\\'s Score: ', model_2_score)\n"
   ]
  },
  {
   "cell_type": "code",
   "execution_count": 77,
   "metadata": {},
   "outputs": [
    {
     "name": "stdout",
     "output_type": "stream",
     "text": [
      "XGBoost's Score:  0.2918147169569595\n"
     ]
    }
   ],
   "source": [
    "import xgboost as xgb\n",
    "\n",
    "XGB = xgb.XGBRegressor()\n",
    "model_params = {\n",
    "    'learning_rate' : uniform(),\n",
    "    'max_depth' : randint(1, 20),\n",
    "    'min_child_weight' : randint(1, 10),\n",
    "    'gamma': uniform(),\n",
    "    'colsample_bytree' : uniform()\n",
    "}\n",
    "\n",
    "clf = RandomizedSearchCV(XGB, model_params, n_iter = 10, cv = 5)\n",
    "\n",
    "model_3 = clf.fit(X_train, y_train)\n",
    "\n",
    "model_3_score = model_3.best_estimator_.score(X_test, y_test)\n",
    "\n",
    "print('XGBoost\\'s Score: ', model_3_score)"
   ]
  },
  {
   "cell_type": "code",
   "execution_count": 81,
   "metadata": {},
   "outputs": [
    {
     "data": {
      "image/png": "[encoded data removed]",
      "text/plain": [
       "<Figure size 640x480 with 1 Axes>"
      ]
     },
     "metadata": {},
     "output_type": "display_data"
    }
   ],
   "source": [
    "model_list = ['Light GBM', 'HGBR Tree', 'XGBoost']\n",
    "model_values = [model_1_score, model_2_score, model_3_score]\n",
    "\n",
    "high = max(model_values)\n",
    "low = min(model_values)\n",
    "diff = high - low\n",
    "\n",
    "plt.ylim([low-(diff*0.5), high+(diff*0.5)])\n",
    "plt.bar(model_list, model_values, color = ['blue', 'red', 'green'])\n",
    "plt.xticks(rotation = 90)\n",
    "plt.ylabel('Score')\n",
    "plt.show()"
   ]
  },
  {
   "attachments": {},
   "cell_type": "markdown",
   "metadata": {},
   "source": [
    "![Title](./Novoenzyme_Enzyme_Stability_17.jpg)"
   ]
  }
 ],
 "metadata": {
  "kernelspec": {
   "display_name": "mkolb",
   "language": "python",
   "name": "python3"
  },
  "language_info": {
   "codemirror_mode": {
    "name": "ipython",
    "version": 3
   },
   "file_extension": ".py",
   "mimetype": "text/x-python",
   "name": "python",
   "nbconvert_exporter": "python",
   "pygments_lexer": "ipython3",
   "version": "3.10.8"
  },
  "orig_nbformat": 4,
  "vscode": {
   "interpreter": {
    "hash": "7ebd053a061fe1a217577889e1326940568b068dd84a30b5eed2dd3dd360c30c"
   }
  }
 },
 "nbformat": 4,
 "nbformat_minor": 2
}
